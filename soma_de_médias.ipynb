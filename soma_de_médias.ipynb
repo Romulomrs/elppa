{
  "nbformat": 4,
  "nbformat_minor": 0,
  "metadata": {
    "colab": {
      "provenance": [],
      "authorship_tag": "ABX9TyNEVTSN+LwYW27OHmWvscH1",
      "include_colab_link": true
    },
    "kernelspec": {
      "name": "python3",
      "display_name": "Python 3"
    },
    "language_info": {
      "name": "python"
    }
  },
  "cells": [
    {
      "cell_type": "markdown",
      "metadata": {
        "id": "view-in-github",
        "colab_type": "text"
      },
      "source": [
        "<a href=\"https://colab.research.google.com/github/Romulomrs/elppa/blob/main/soma_de_m%C3%A9dias.ipynb\" target=\"_parent\"><img src=\"https://colab.research.google.com/assets/colab-badge.svg\" alt=\"Open In Colab\"/></a>"
      ]
    },
    {
      "cell_type": "code",
      "source": [
        "senha= \"54321\"\n",
        "leitura= \"\"\n",
        "while senha != leitura:\n",
        "  leitura = input(\"digite a sua senha: \")\n",
        "  if leitura == senha: print(\"acesso liberado\")\n",
        "  else: print(\"Acesso negado\")"
      ],
      "metadata": {
        "colab": {
          "base_uri": "https://localhost:8080/"
        },
        "id": "PPvpIeepeTAE",
        "outputId": "4e46c1e0-9665-4845-9c92-979900a7e297"
      },
      "execution_count": null,
      "outputs": [
        {
          "output_type": "stream",
          "name": "stdout",
          "text": [
            "digite a sua senha: 54321\n",
            "acesso liberado\n"
          ]
        }
      ]
    },
    {
      "cell_type": "code",
      "source": [
        "NotaA= float(input(\"digite nota1 \"))\n",
        "NotaAB= float(input(\"digite nota2 \"))\n",
        "mediaF = ((NotaA + NotaAB) / 2)\n",
        "if mediaF > 10:\n",
        "  mediaF = 10\n",
        "  print( \"Aprovado com média: \" , mediaF)\n",
        "elif mediaF >= 7:\n",
        "     print( \"Aprovado com média: \" , mediaF)\n",
        "else:\n",
        "  print (\"reprovado com media: \", mediaF)\n",
        "\n",
        "\n",
        "\n",
        "\n"
      ],
      "metadata": {
        "colab": {
          "base_uri": "https://localhost:8080/"
        },
        "id": "tIJnAzNXqosr",
        "outputId": "b5f7c06f-c29a-4252-fcb4-637db6037135"
      },
      "execution_count": null,
      "outputs": [
        {
          "output_type": "stream",
          "name": "stdout",
          "text": [
            "digite nota1 15\n",
            "digite nota2 10\n",
            "Aprovado com média:  10\n"
          ]
        }
      ]
    }
  ]
}